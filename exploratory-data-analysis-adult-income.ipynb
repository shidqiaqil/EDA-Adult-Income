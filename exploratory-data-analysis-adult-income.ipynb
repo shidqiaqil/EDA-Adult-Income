{
 "cells": [
  {
   "cell_type": "markdown",
   "id": "6e5d3b75",
   "metadata": {
    "_cell_guid": "b1076dfc-b9ad-4769-8c92-a6c4dae69d19",
    "_uuid": "8f2839f25d086af736a60e9eeb907d3b93b6e0e5",
    "execution": {
     "iopub.execute_input": "2022-10-20T02:49:55.989023Z",
     "iopub.status.busy": "2022-10-20T02:49:55.988570Z",
     "iopub.status.idle": "2022-10-20T02:49:55.993772Z",
     "shell.execute_reply": "2022-10-20T02:49:55.992203Z",
     "shell.execute_reply.started": "2022-10-20T02:49:55.988988Z"
    },
    "papermill": {
     "duration": 0.009487,
     "end_time": "2023-02-21T04:24:17.668369",
     "exception": false,
     "start_time": "2023-02-21T04:24:17.658882",
     "status": "completed"
    },
    "tags": []
   },
   "source": [
    "# **Exploratory Data Analysis Adult Income**\n",
    "Data Source : [Adult income dataset](https://www.kaggle.com/datasets/wenruliu/adult-income-dataset)\n",
    "\n",
    "\n",
    "\n",
    "**Sources :** \n",
    "1. https://archive.ics.uci.edu/ml/datasets/adult \n",
    "2. https://www.kaggle.com/code/keitazoumana/eda-feature-engineering-machine-learning/notebook \n",
    "3. https://www.kaggle.com/code/aditimulye/adult-income-dataset-from-scratch"
   ]
  },
  {
   "cell_type": "markdown",
   "id": "805a3185",
   "metadata": {
    "papermill": {
     "duration": 0.007867,
     "end_time": "2023-02-21T04:24:17.684574",
     "exception": false,
     "start_time": "2023-02-21T04:24:17.676707",
     "status": "completed"
    },
    "tags": []
   },
   "source": [
    "# **1. Get the Data**\n",
    "\n",
    "The dataset contains 16 columns\n",
    "* Target filed: Income\n",
    "(<=50K and >50K)\n",
    "* Number of attributes: 14\n",
    "(These are the demographics and other features to describe a person)"
   ]
  },
  {
   "cell_type": "code",
   "execution_count": 1,
   "id": "b2f8fd1c",
   "metadata": {
    "execution": {
     "iopub.execute_input": "2023-02-21T04:24:17.702939Z",
     "iopub.status.busy": "2023-02-21T04:24:17.702462Z",
     "iopub.status.idle": "2023-02-21T04:24:17.712920Z",
     "shell.execute_reply": "2023-02-21T04:24:17.711755Z"
    },
    "papermill": {
     "duration": 0.022795,
     "end_time": "2023-02-21T04:24:17.715480",
     "exception": false,
     "start_time": "2023-02-21T04:24:17.692685",
     "status": "completed"
    },
    "tags": []
   },
   "outputs": [],
   "source": [
    "import requests\n",
    "import os"
   ]
  },
  {
   "cell_type": "code",
   "execution_count": 2,
   "id": "96f26e64",
   "metadata": {
    "execution": {
     "iopub.execute_input": "2023-02-21T04:24:17.733663Z",
     "iopub.status.busy": "2023-02-21T04:24:17.733213Z",
     "iopub.status.idle": "2023-02-21T04:24:17.744211Z",
     "shell.execute_reply": "2023-02-21T04:24:17.742961Z"
    },
    "papermill": {
     "duration": 0.023277,
     "end_time": "2023-02-21T04:24:17.747011",
     "exception": false,
     "start_time": "2023-02-21T04:24:17.723734",
     "status": "completed"
    },
    "tags": []
   },
   "outputs": [
    {
     "name": "stdout",
     "output_type": "stream",
     "text": [
      "../input/adult-income-dataset/adult.csv\n"
     ]
    }
   ],
   "source": [
    "# This Python 3 environment comes with many helpful analytics libraries installed\n",
    "# It is defined by the kaggle/python Docker image: https://github.com/kaggle/docker-python\n",
    "# For example, here's several helpful packages to load\n",
    "\n",
    "import numpy as np # linear algebra\n",
    "import pandas as pd # data processing, CSV file I/O (e.g. pd.read_csv)\n",
    "\n",
    "# Input data files are available in the read-only \"../input/\" directory\n",
    "# For example, running this (by clicking run or pressing Shift+Enter) will list all files under the input directory\n",
    "\n",
    "import os\n",
    "for dirname, _, filenames in os.walk('../input/adult-income-dataset'):\n",
    "    for filename in filenames:\n",
    "        print(os.path.join(dirname, filename))\n",
    "\n",
    "# You can write up to 20GB to the current directory (/kaggle/working/) that gets preserved as output when you create a version using \"Save & Run All\" \n",
    "# You can also write temporary files to /kaggle/temp/, but they won't be saved outside of the current session"
   ]
  },
  {
   "cell_type": "code",
   "execution_count": 3,
   "id": "b386b148",
   "metadata": {
    "execution": {
     "iopub.execute_input": "2023-02-21T04:24:17.765076Z",
     "iopub.status.busy": "2023-02-21T04:24:17.764608Z",
     "iopub.status.idle": "2023-02-21T04:24:17.961435Z",
     "shell.execute_reply": "2023-02-21T04:24:17.960558Z"
    },
    "papermill": {
     "duration": 0.208788,
     "end_time": "2023-02-21T04:24:17.963991",
     "exception": false,
     "start_time": "2023-02-21T04:24:17.755203",
     "status": "completed"
    },
    "tags": []
   },
   "outputs": [],
   "source": [
    "df = pd.read_csv(r'../input/adult-income-dataset/adult.csv')"
   ]
  },
  {
   "cell_type": "code",
   "execution_count": 4,
   "id": "f34b3744",
   "metadata": {
    "execution": {
     "iopub.execute_input": "2023-02-21T04:24:17.984348Z",
     "iopub.status.busy": "2023-02-21T04:24:17.983414Z",
     "iopub.status.idle": "2023-02-21T04:24:18.028131Z",
     "shell.execute_reply": "2023-02-21T04:24:18.026962Z"
    },
    "papermill": {
     "duration": 0.05834,
     "end_time": "2023-02-21T04:24:18.030632",
     "exception": false,
     "start_time": "2023-02-21T04:24:17.972292",
     "status": "completed"
    },
    "tags": []
   },
   "outputs": [
    {
     "data": {
      "text/html": [
       "<div>\n",
       "<style scoped>\n",
       "    .dataframe tbody tr th:only-of-type {\n",
       "        vertical-align: middle;\n",
       "    }\n",
       "\n",
       "    .dataframe tbody tr th {\n",
       "        vertical-align: top;\n",
       "    }\n",
       "\n",
       "    .dataframe thead th {\n",
       "        text-align: right;\n",
       "    }\n",
       "</style>\n",
       "<table border=\"1\" class=\"dataframe\">\n",
       "  <thead>\n",
       "    <tr style=\"text-align: right;\">\n",
       "      <th></th>\n",
       "      <th>age</th>\n",
       "      <th>workclass</th>\n",
       "      <th>fnlwgt</th>\n",
       "      <th>education</th>\n",
       "      <th>educational-num</th>\n",
       "      <th>marital-status</th>\n",
       "      <th>occupation</th>\n",
       "      <th>relationship</th>\n",
       "      <th>race</th>\n",
       "      <th>gender</th>\n",
       "      <th>capital-gain</th>\n",
       "      <th>capital-loss</th>\n",
       "      <th>hours-per-week</th>\n",
       "      <th>native-country</th>\n",
       "      <th>income</th>\n",
       "    </tr>\n",
       "  </thead>\n",
       "  <tbody>\n",
       "    <tr>\n",
       "      <th>0</th>\n",
       "      <td>25</td>\n",
       "      <td>Private</td>\n",
       "      <td>226802</td>\n",
       "      <td>11th</td>\n",
       "      <td>7</td>\n",
       "      <td>Never-married</td>\n",
       "      <td>Machine-op-inspct</td>\n",
       "      <td>Own-child</td>\n",
       "      <td>Black</td>\n",
       "      <td>Male</td>\n",
       "      <td>0</td>\n",
       "      <td>0</td>\n",
       "      <td>40</td>\n",
       "      <td>United-States</td>\n",
       "      <td>&lt;=50K</td>\n",
       "    </tr>\n",
       "    <tr>\n",
       "      <th>1</th>\n",
       "      <td>38</td>\n",
       "      <td>Private</td>\n",
       "      <td>89814</td>\n",
       "      <td>HS-grad</td>\n",
       "      <td>9</td>\n",
       "      <td>Married-civ-spouse</td>\n",
       "      <td>Farming-fishing</td>\n",
       "      <td>Husband</td>\n",
       "      <td>White</td>\n",
       "      <td>Male</td>\n",
       "      <td>0</td>\n",
       "      <td>0</td>\n",
       "      <td>50</td>\n",
       "      <td>United-States</td>\n",
       "      <td>&lt;=50K</td>\n",
       "    </tr>\n",
       "    <tr>\n",
       "      <th>2</th>\n",
       "      <td>28</td>\n",
       "      <td>Local-gov</td>\n",
       "      <td>336951</td>\n",
       "      <td>Assoc-acdm</td>\n",
       "      <td>12</td>\n",
       "      <td>Married-civ-spouse</td>\n",
       "      <td>Protective-serv</td>\n",
       "      <td>Husband</td>\n",
       "      <td>White</td>\n",
       "      <td>Male</td>\n",
       "      <td>0</td>\n",
       "      <td>0</td>\n",
       "      <td>40</td>\n",
       "      <td>United-States</td>\n",
       "      <td>&gt;50K</td>\n",
       "    </tr>\n",
       "    <tr>\n",
       "      <th>3</th>\n",
       "      <td>44</td>\n",
       "      <td>Private</td>\n",
       "      <td>160323</td>\n",
       "      <td>Some-college</td>\n",
       "      <td>10</td>\n",
       "      <td>Married-civ-spouse</td>\n",
       "      <td>Machine-op-inspct</td>\n",
       "      <td>Husband</td>\n",
       "      <td>Black</td>\n",
       "      <td>Male</td>\n",
       "      <td>7688</td>\n",
       "      <td>0</td>\n",
       "      <td>40</td>\n",
       "      <td>United-States</td>\n",
       "      <td>&gt;50K</td>\n",
       "    </tr>\n",
       "    <tr>\n",
       "      <th>4</th>\n",
       "      <td>18</td>\n",
       "      <td>?</td>\n",
       "      <td>103497</td>\n",
       "      <td>Some-college</td>\n",
       "      <td>10</td>\n",
       "      <td>Never-married</td>\n",
       "      <td>?</td>\n",
       "      <td>Own-child</td>\n",
       "      <td>White</td>\n",
       "      <td>Female</td>\n",
       "      <td>0</td>\n",
       "      <td>0</td>\n",
       "      <td>30</td>\n",
       "      <td>United-States</td>\n",
       "      <td>&lt;=50K</td>\n",
       "    </tr>\n",
       "    <tr>\n",
       "      <th>...</th>\n",
       "      <td>...</td>\n",
       "      <td>...</td>\n",
       "      <td>...</td>\n",
       "      <td>...</td>\n",
       "      <td>...</td>\n",
       "      <td>...</td>\n",
       "      <td>...</td>\n",
       "      <td>...</td>\n",
       "      <td>...</td>\n",
       "      <td>...</td>\n",
       "      <td>...</td>\n",
       "      <td>...</td>\n",
       "      <td>...</td>\n",
       "      <td>...</td>\n",
       "      <td>...</td>\n",
       "    </tr>\n",
       "    <tr>\n",
       "      <th>48837</th>\n",
       "      <td>27</td>\n",
       "      <td>Private</td>\n",
       "      <td>257302</td>\n",
       "      <td>Assoc-acdm</td>\n",
       "      <td>12</td>\n",
       "      <td>Married-civ-spouse</td>\n",
       "      <td>Tech-support</td>\n",
       "      <td>Wife</td>\n",
       "      <td>White</td>\n",
       "      <td>Female</td>\n",
       "      <td>0</td>\n",
       "      <td>0</td>\n",
       "      <td>38</td>\n",
       "      <td>United-States</td>\n",
       "      <td>&lt;=50K</td>\n",
       "    </tr>\n",
       "    <tr>\n",
       "      <th>48838</th>\n",
       "      <td>40</td>\n",
       "      <td>Private</td>\n",
       "      <td>154374</td>\n",
       "      <td>HS-grad</td>\n",
       "      <td>9</td>\n",
       "      <td>Married-civ-spouse</td>\n",
       "      <td>Machine-op-inspct</td>\n",
       "      <td>Husband</td>\n",
       "      <td>White</td>\n",
       "      <td>Male</td>\n",
       "      <td>0</td>\n",
       "      <td>0</td>\n",
       "      <td>40</td>\n",
       "      <td>United-States</td>\n",
       "      <td>&gt;50K</td>\n",
       "    </tr>\n",
       "    <tr>\n",
       "      <th>48839</th>\n",
       "      <td>58</td>\n",
       "      <td>Private</td>\n",
       "      <td>151910</td>\n",
       "      <td>HS-grad</td>\n",
       "      <td>9</td>\n",
       "      <td>Widowed</td>\n",
       "      <td>Adm-clerical</td>\n",
       "      <td>Unmarried</td>\n",
       "      <td>White</td>\n",
       "      <td>Female</td>\n",
       "      <td>0</td>\n",
       "      <td>0</td>\n",
       "      <td>40</td>\n",
       "      <td>United-States</td>\n",
       "      <td>&lt;=50K</td>\n",
       "    </tr>\n",
       "    <tr>\n",
       "      <th>48840</th>\n",
       "      <td>22</td>\n",
       "      <td>Private</td>\n",
       "      <td>201490</td>\n",
       "      <td>HS-grad</td>\n",
       "      <td>9</td>\n",
       "      <td>Never-married</td>\n",
       "      <td>Adm-clerical</td>\n",
       "      <td>Own-child</td>\n",
       "      <td>White</td>\n",
       "      <td>Male</td>\n",
       "      <td>0</td>\n",
       "      <td>0</td>\n",
       "      <td>20</td>\n",
       "      <td>United-States</td>\n",
       "      <td>&lt;=50K</td>\n",
       "    </tr>\n",
       "    <tr>\n",
       "      <th>48841</th>\n",
       "      <td>52</td>\n",
       "      <td>Self-emp-inc</td>\n",
       "      <td>287927</td>\n",
       "      <td>HS-grad</td>\n",
       "      <td>9</td>\n",
       "      <td>Married-civ-spouse</td>\n",
       "      <td>Exec-managerial</td>\n",
       "      <td>Wife</td>\n",
       "      <td>White</td>\n",
       "      <td>Female</td>\n",
       "      <td>15024</td>\n",
       "      <td>0</td>\n",
       "      <td>40</td>\n",
       "      <td>United-States</td>\n",
       "      <td>&gt;50K</td>\n",
       "    </tr>\n",
       "  </tbody>\n",
       "</table>\n",
       "<p>48842 rows × 15 columns</p>\n",
       "</div>"
      ],
      "text/plain": [
       "       age     workclass  fnlwgt     education  educational-num  \\\n",
       "0       25       Private  226802          11th                7   \n",
       "1       38       Private   89814       HS-grad                9   \n",
       "2       28     Local-gov  336951    Assoc-acdm               12   \n",
       "3       44       Private  160323  Some-college               10   \n",
       "4       18             ?  103497  Some-college               10   \n",
       "...    ...           ...     ...           ...              ...   \n",
       "48837   27       Private  257302    Assoc-acdm               12   \n",
       "48838   40       Private  154374       HS-grad                9   \n",
       "48839   58       Private  151910       HS-grad                9   \n",
       "48840   22       Private  201490       HS-grad                9   \n",
       "48841   52  Self-emp-inc  287927       HS-grad                9   \n",
       "\n",
       "           marital-status         occupation relationship   race  gender  \\\n",
       "0           Never-married  Machine-op-inspct    Own-child  Black    Male   \n",
       "1      Married-civ-spouse    Farming-fishing      Husband  White    Male   \n",
       "2      Married-civ-spouse    Protective-serv      Husband  White    Male   \n",
       "3      Married-civ-spouse  Machine-op-inspct      Husband  Black    Male   \n",
       "4           Never-married                  ?    Own-child  White  Female   \n",
       "...                   ...                ...          ...    ...     ...   \n",
       "48837  Married-civ-spouse       Tech-support         Wife  White  Female   \n",
       "48838  Married-civ-spouse  Machine-op-inspct      Husband  White    Male   \n",
       "48839             Widowed       Adm-clerical    Unmarried  White  Female   \n",
       "48840       Never-married       Adm-clerical    Own-child  White    Male   \n",
       "48841  Married-civ-spouse    Exec-managerial         Wife  White  Female   \n",
       "\n",
       "       capital-gain  capital-loss  hours-per-week native-country income  \n",
       "0                 0             0              40  United-States  <=50K  \n",
       "1                 0             0              50  United-States  <=50K  \n",
       "2                 0             0              40  United-States   >50K  \n",
       "3              7688             0              40  United-States   >50K  \n",
       "4                 0             0              30  United-States  <=50K  \n",
       "...             ...           ...             ...            ...    ...  \n",
       "48837             0             0              38  United-States  <=50K  \n",
       "48838             0             0              40  United-States   >50K  \n",
       "48839             0             0              40  United-States  <=50K  \n",
       "48840             0             0              20  United-States  <=50K  \n",
       "48841         15024             0              40  United-States   >50K  \n",
       "\n",
       "[48842 rows x 15 columns]"
      ]
     },
     "execution_count": 4,
     "metadata": {},
     "output_type": "execute_result"
    }
   ],
   "source": [
    "df"
   ]
  },
  {
   "cell_type": "code",
   "execution_count": 5,
   "id": "7dde9cd2",
   "metadata": {
    "execution": {
     "iopub.execute_input": "2023-02-21T04:24:18.050268Z",
     "iopub.status.busy": "2023-02-21T04:24:18.049448Z",
     "iopub.status.idle": "2023-02-21T04:24:18.094436Z",
     "shell.execute_reply": "2023-02-21T04:24:18.092690Z"
    },
    "papermill": {
     "duration": 0.057937,
     "end_time": "2023-02-21T04:24:18.097313",
     "exception": false,
     "start_time": "2023-02-21T04:24:18.039376",
     "status": "completed"
    },
    "tags": []
   },
   "outputs": [
    {
     "name": "stdout",
     "output_type": "stream",
     "text": [
      "<class 'pandas.core.frame.DataFrame'>\n",
      "RangeIndex: 48842 entries, 0 to 48841\n",
      "Data columns (total 15 columns):\n",
      " #   Column           Non-Null Count  Dtype \n",
      "---  ------           --------------  ----- \n",
      " 0   age              48842 non-null  int64 \n",
      " 1   workclass        48842 non-null  object\n",
      " 2   fnlwgt           48842 non-null  int64 \n",
      " 3   education        48842 non-null  object\n",
      " 4   educational-num  48842 non-null  int64 \n",
      " 5   marital-status   48842 non-null  object\n",
      " 6   occupation       48842 non-null  object\n",
      " 7   relationship     48842 non-null  object\n",
      " 8   race             48842 non-null  object\n",
      " 9   gender           48842 non-null  object\n",
      " 10  capital-gain     48842 non-null  int64 \n",
      " 11  capital-loss     48842 non-null  int64 \n",
      " 12  hours-per-week   48842 non-null  int64 \n",
      " 13  native-country   48842 non-null  object\n",
      " 14  income           48842 non-null  object\n",
      "dtypes: int64(6), object(9)\n",
      "memory usage: 5.6+ MB\n"
     ]
    }
   ],
   "source": [
    "df.info()"
   ]
  },
  {
   "cell_type": "markdown",
   "id": "af6fde4a",
   "metadata": {
    "papermill": {
     "duration": 0.00847,
     "end_time": "2023-02-21T04:24:18.115265",
     "exception": false,
     "start_time": "2023-02-21T04:24:18.106795",
     "status": "completed"
    },
    "tags": []
   },
   "source": [
    "**The dataset contains no null values, but if we look closer there is \" ? \" value. We need to handle that**"
   ]
  },
  {
   "cell_type": "code",
   "execution_count": 6,
   "id": "7731e198",
   "metadata": {
    "execution": {
     "iopub.execute_input": "2023-02-21T04:24:18.134451Z",
     "iopub.status.busy": "2023-02-21T04:24:18.134034Z",
     "iopub.status.idle": "2023-02-21T04:24:18.182318Z",
     "shell.execute_reply": "2023-02-21T04:24:18.181081Z"
    },
    "papermill": {
     "duration": 0.061321,
     "end_time": "2023-02-21T04:24:18.185269",
     "exception": false,
     "start_time": "2023-02-21T04:24:18.123948",
     "status": "completed"
    },
    "tags": []
   },
   "outputs": [
    {
     "data": {
      "text/html": [
       "<div>\n",
       "<style scoped>\n",
       "    .dataframe tbody tr th:only-of-type {\n",
       "        vertical-align: middle;\n",
       "    }\n",
       "\n",
       "    .dataframe tbody tr th {\n",
       "        vertical-align: top;\n",
       "    }\n",
       "\n",
       "    .dataframe thead th {\n",
       "        text-align: right;\n",
       "    }\n",
       "</style>\n",
       "<table border=\"1\" class=\"dataframe\">\n",
       "  <thead>\n",
       "    <tr style=\"text-align: right;\">\n",
       "      <th></th>\n",
       "      <th>count</th>\n",
       "      <th>mean</th>\n",
       "      <th>std</th>\n",
       "      <th>min</th>\n",
       "      <th>25%</th>\n",
       "      <th>50%</th>\n",
       "      <th>75%</th>\n",
       "      <th>max</th>\n",
       "    </tr>\n",
       "  </thead>\n",
       "  <tbody>\n",
       "    <tr>\n",
       "      <th>age</th>\n",
       "      <td>48842.0</td>\n",
       "      <td>38.643585</td>\n",
       "      <td>13.710510</td>\n",
       "      <td>17.0</td>\n",
       "      <td>28.0</td>\n",
       "      <td>37.0</td>\n",
       "      <td>48.0</td>\n",
       "      <td>90.0</td>\n",
       "    </tr>\n",
       "    <tr>\n",
       "      <th>fnlwgt</th>\n",
       "      <td>48842.0</td>\n",
       "      <td>189664.134597</td>\n",
       "      <td>105604.025423</td>\n",
       "      <td>12285.0</td>\n",
       "      <td>117550.5</td>\n",
       "      <td>178144.5</td>\n",
       "      <td>237642.0</td>\n",
       "      <td>1490400.0</td>\n",
       "    </tr>\n",
       "    <tr>\n",
       "      <th>educational-num</th>\n",
       "      <td>48842.0</td>\n",
       "      <td>10.078089</td>\n",
       "      <td>2.570973</td>\n",
       "      <td>1.0</td>\n",
       "      <td>9.0</td>\n",
       "      <td>10.0</td>\n",
       "      <td>12.0</td>\n",
       "      <td>16.0</td>\n",
       "    </tr>\n",
       "    <tr>\n",
       "      <th>capital-gain</th>\n",
       "      <td>48842.0</td>\n",
       "      <td>1079.067626</td>\n",
       "      <td>7452.019058</td>\n",
       "      <td>0.0</td>\n",
       "      <td>0.0</td>\n",
       "      <td>0.0</td>\n",
       "      <td>0.0</td>\n",
       "      <td>99999.0</td>\n",
       "    </tr>\n",
       "    <tr>\n",
       "      <th>capital-loss</th>\n",
       "      <td>48842.0</td>\n",
       "      <td>87.502314</td>\n",
       "      <td>403.004552</td>\n",
       "      <td>0.0</td>\n",
       "      <td>0.0</td>\n",
       "      <td>0.0</td>\n",
       "      <td>0.0</td>\n",
       "      <td>4356.0</td>\n",
       "    </tr>\n",
       "    <tr>\n",
       "      <th>hours-per-week</th>\n",
       "      <td>48842.0</td>\n",
       "      <td>40.422382</td>\n",
       "      <td>12.391444</td>\n",
       "      <td>1.0</td>\n",
       "      <td>40.0</td>\n",
       "      <td>40.0</td>\n",
       "      <td>45.0</td>\n",
       "      <td>99.0</td>\n",
       "    </tr>\n",
       "  </tbody>\n",
       "</table>\n",
       "</div>"
      ],
      "text/plain": [
       "                   count           mean            std      min       25%  \\\n",
       "age              48842.0      38.643585      13.710510     17.0      28.0   \n",
       "fnlwgt           48842.0  189664.134597  105604.025423  12285.0  117550.5   \n",
       "educational-num  48842.0      10.078089       2.570973      1.0       9.0   \n",
       "capital-gain     48842.0    1079.067626    7452.019058      0.0       0.0   \n",
       "capital-loss     48842.0      87.502314     403.004552      0.0       0.0   \n",
       "hours-per-week   48842.0      40.422382      12.391444      1.0      40.0   \n",
       "\n",
       "                      50%       75%        max  \n",
       "age                  37.0      48.0       90.0  \n",
       "fnlwgt           178144.5  237642.0  1490400.0  \n",
       "educational-num      10.0      12.0       16.0  \n",
       "capital-gain          0.0       0.0    99999.0  \n",
       "capital-loss          0.0       0.0     4356.0  \n",
       "hours-per-week       40.0      45.0       99.0  "
      ]
     },
     "execution_count": 6,
     "metadata": {},
     "output_type": "execute_result"
    }
   ],
   "source": [
    "df.describe().T"
   ]
  },
  {
   "cell_type": "markdown",
   "id": "d4932694",
   "metadata": {
    "papermill": {
     "duration": 0.008684,
     "end_time": "2023-02-21T04:24:18.203525",
     "exception": false,
     "start_time": "2023-02-21T04:24:18.194841",
     "status": "completed"
    },
    "tags": []
   },
   "source": [
    "* The minimum and maximum age is 17 and 90 with average is 37\n",
    "* The minimum and maximum for years spent on education is 1 and 16 with average on 10 years\n",
    "* etc"
   ]
  },
  {
   "cell_type": "markdown",
   "id": "abeabf63",
   "metadata": {
    "papermill": {
     "duration": 0.008878,
     "end_time": "2023-02-21T04:24:18.221877",
     "exception": false,
     "start_time": "2023-02-21T04:24:18.212999",
     "status": "completed"
    },
    "tags": []
   },
   "source": [
    "# 2. Data Cleansing"
   ]
  },
  {
   "cell_type": "markdown",
   "id": "dd7d2d67",
   "metadata": {
    "execution": {
     "iopub.execute_input": "2022-10-20T03:31:25.231024Z",
     "iopub.status.busy": "2022-10-20T03:31:25.230553Z",
     "iopub.status.idle": "2022-10-20T03:31:25.267455Z",
     "shell.execute_reply": "2022-10-20T03:31:25.266529Z",
     "shell.execute_reply.started": "2022-10-20T03:31:25.230978Z"
    },
    "papermill": {
     "duration": 0.008721,
     "end_time": "2023-02-21T04:24:18.239682",
     "exception": false,
     "start_time": "2023-02-21T04:24:18.230961",
     "status": "completed"
    },
    "tags": []
   },
   "source": [
    "**Replace \"?\" value with mode(modus)**"
   ]
  },
  {
   "cell_type": "code",
   "execution_count": 7,
   "id": "f7b43e1d",
   "metadata": {
    "execution": {
     "iopub.execute_input": "2023-02-21T04:24:18.260125Z",
     "iopub.status.busy": "2023-02-21T04:24:18.259639Z",
     "iopub.status.idle": "2023-02-21T04:24:18.314670Z",
     "shell.execute_reply": "2023-02-21T04:24:18.313498Z"
    },
    "papermill": {
     "duration": 0.068638,
     "end_time": "2023-02-21T04:24:18.317412",
     "exception": false,
     "start_time": "2023-02-21T04:24:18.248774",
     "status": "completed"
    },
    "tags": []
   },
   "outputs": [],
   "source": [
    "df[df=='?'] = np.nan"
   ]
  },
  {
   "cell_type": "code",
   "execution_count": 8,
   "id": "7059c6d5",
   "metadata": {
    "execution": {
     "iopub.execute_input": "2023-02-21T04:24:18.337242Z",
     "iopub.status.busy": "2023-02-21T04:24:18.336550Z",
     "iopub.status.idle": "2023-02-21T04:24:18.369270Z",
     "shell.execute_reply": "2023-02-21T04:24:18.368062Z"
    },
    "papermill": {
     "duration": 0.04549,
     "end_time": "2023-02-21T04:24:18.371894",
     "exception": false,
     "start_time": "2023-02-21T04:24:18.326404",
     "status": "completed"
    },
    "tags": []
   },
   "outputs": [
    {
     "name": "stdout",
     "output_type": "stream",
     "text": [
      "<class 'pandas.core.frame.DataFrame'>\n",
      "RangeIndex: 48842 entries, 0 to 48841\n",
      "Data columns (total 15 columns):\n",
      " #   Column           Non-Null Count  Dtype \n",
      "---  ------           --------------  ----- \n",
      " 0   age              48842 non-null  int64 \n",
      " 1   workclass        46043 non-null  object\n",
      " 2   fnlwgt           48842 non-null  int64 \n",
      " 3   education        48842 non-null  object\n",
      " 4   educational-num  48842 non-null  int64 \n",
      " 5   marital-status   48842 non-null  object\n",
      " 6   occupation       46033 non-null  object\n",
      " 7   relationship     48842 non-null  object\n",
      " 8   race             48842 non-null  object\n",
      " 9   gender           48842 non-null  object\n",
      " 10  capital-gain     48842 non-null  int64 \n",
      " 11  capital-loss     48842 non-null  int64 \n",
      " 12  hours-per-week   48842 non-null  int64 \n",
      " 13  native-country   47985 non-null  object\n",
      " 14  income           48842 non-null  object\n",
      "dtypes: int64(6), object(9)\n",
      "memory usage: 5.6+ MB\n"
     ]
    }
   ],
   "source": [
    "df.info()"
   ]
  },
  {
   "cell_type": "code",
   "execution_count": 9,
   "id": "00063433",
   "metadata": {
    "execution": {
     "iopub.execute_input": "2023-02-21T04:24:18.392046Z",
     "iopub.status.busy": "2023-02-21T04:24:18.391596Z",
     "iopub.status.idle": "2023-02-21T04:24:18.414437Z",
     "shell.execute_reply": "2023-02-21T04:24:18.413402Z"
    },
    "papermill": {
     "duration": 0.036027,
     "end_time": "2023-02-21T04:24:18.417054",
     "exception": false,
     "start_time": "2023-02-21T04:24:18.381027",
     "status": "completed"
    },
    "tags": []
   },
   "outputs": [],
   "source": [
    "for col in ['workclass', 'occupation', 'native-country']:\n",
    "    df[col].fillna(df[col].mode()[0], inplace=True)"
   ]
  },
  {
   "cell_type": "markdown",
   "id": "e4e31a87",
   "metadata": {
    "papermill": {
     "duration": 0.009135,
     "end_time": "2023-02-21T04:24:18.435583",
     "exception": false,
     "start_time": "2023-02-21T04:24:18.426448",
     "status": "completed"
    },
    "tags": []
   },
   "source": [
    "# EXPLORATORY DATA ANALYSIS"
   ]
  },
  {
   "cell_type": "code",
   "execution_count": 10,
   "id": "aa8f42ab",
   "metadata": {
    "execution": {
     "iopub.execute_input": "2023-02-21T04:24:18.455730Z",
     "iopub.status.busy": "2023-02-21T04:24:18.455322Z",
     "iopub.status.idle": "2023-02-21T04:24:19.730411Z",
     "shell.execute_reply": "2023-02-21T04:24:19.729322Z"
    },
    "papermill": {
     "duration": 1.288637,
     "end_time": "2023-02-21T04:24:19.733304",
     "exception": false,
     "start_time": "2023-02-21T04:24:18.444667",
     "status": "completed"
    },
    "tags": []
   },
   "outputs": [],
   "source": [
    "# ************** DATA VISUALIZATION ****************\n",
    "\n",
    "import matplotlib.pyplot as plt\n",
    "import matplotlib.ticker as mtick\n",
    "import seaborn as sns\n",
    "%matplotlib inline\n"
   ]
  },
  {
   "cell_type": "code",
   "execution_count": 11,
   "id": "579b4b68",
   "metadata": {
    "execution": {
     "iopub.execute_input": "2023-02-21T04:24:19.754301Z",
     "iopub.status.busy": "2023-02-21T04:24:19.753066Z",
     "iopub.status.idle": "2023-02-21T04:24:20.034112Z",
     "shell.execute_reply": "2023-02-21T04:24:20.032965Z"
    },
    "papermill": {
     "duration": 0.294078,
     "end_time": "2023-02-21T04:24:20.036681",
     "exception": false,
     "start_time": "2023-02-21T04:24:19.742603",
     "status": "completed"
    },
    "tags": []
   },
   "outputs": [
    {
     "data": {
      "image/png": "[encoded data removed]",
      "text/plain": [
       "<Figure size 576x360 with 1 Axes>"
      ]
     },
     "metadata": {
      "needs_background": "light"
     },
     "output_type": "display_data"
    }
   ],
   "source": [
    "#sns.set_style(\"whitegrid\")\n",
    "plt.figure(figsize = (8,5))\n",
    "plt.title('Income Distribution of Adults', fontsize=18, fontweight='bold')\n",
    "eda_percentage = df['income'].value_counts(normalize = True).rename_axis('income').reset_index(name = 'Percentage')\n",
    "\n",
    "ax = sns.barplot(x = 'income', y = 'Percentage', data = eda_percentage.head(10), palette='Greens_r')\n",
    "#vals = ax.get_yticks()\n",
    "plt.gca().yaxis.set_major_formatter(mtick.PercentFormatter(1))\n",
    "for p in ax.patches:\n",
    "    width = p.get_width()\n",
    "    height = p.get_height()\n",
    "    x, y = p.get_xy() \n",
    "    ax.annotate(f'{height:.0%}', (x + width/2, y + height*1), ha='center', fontweight='bold')"
   ]
  },
  {
   "cell_type": "markdown",
   "id": "4ccced10",
   "metadata": {
    "papermill": {
     "duration": 0.009522,
     "end_time": "2023-02-21T04:24:20.056068",
     "exception": false,
     "start_time": "2023-02-21T04:24:20.046546",
     "status": "completed"
    },
    "tags": []
   },
   "source": [
    "As you can see, the percentage number of people earning less than 50k dollar is 76%"
   ]
  },
  {
   "cell_type": "code",
   "execution_count": 12,
   "id": "f9f9662f",
   "metadata": {
    "execution": {
     "iopub.execute_input": "2023-02-21T04:24:20.077484Z",
     "iopub.status.busy": "2023-02-21T04:24:20.076321Z",
     "iopub.status.idle": "2023-02-21T04:24:21.305472Z",
     "shell.execute_reply": "2023-02-21T04:24:21.304292Z"
    },
    "papermill": {
     "duration": 1.242402,
     "end_time": "2023-02-21T04:24:21.307913",
     "exception": false,
     "start_time": "2023-02-21T04:24:20.065511",
     "status": "completed"
    },
    "tags": []
   },
   "outputs": [
    {
     "data": {
      "text/plain": [
       "<AxesSubplot:title={'center':'Density plot for Age'}, ylabel='Density'>"
      ]
     },
     "execution_count": 12,
     "metadata": {},
     "output_type": "execute_result"
    },
    {
     "data": {
      "image/png": "[encoded data removed]",
      "text/plain": [
       "<Figure size 432x288 with 1 Axes>"
      ]
     },
     "metadata": {
      "needs_background": "light"
     },
     "output_type": "display_data"
    }
   ],
   "source": [
    "df['age'].plot(kind='kde', title='Density plot for Age', color='r')"
   ]
  },
  {
   "cell_type": "markdown",
   "id": "984a0efb",
   "metadata": {
    "papermill": {
     "duration": 0.009914,
     "end_time": "2023-02-21T04:24:21.327508",
     "exception": false,
     "start_time": "2023-02-21T04:24:21.317594",
     "status": "completed"
    },
    "tags": []
   },
   "source": [
    "We have positive skewed distribution of age. The highest density for the age is between 30-40 years"
   ]
  },
  {
   "cell_type": "code",
   "execution_count": 13,
   "id": "27a0dab9",
   "metadata": {
    "execution": {
     "iopub.execute_input": "2023-02-21T04:24:21.350242Z",
     "iopub.status.busy": "2023-02-21T04:24:21.349398Z",
     "iopub.status.idle": "2023-02-21T04:24:22.607255Z",
     "shell.execute_reply": "2023-02-21T04:24:22.606065Z"
    },
    "papermill": {
     "duration": 1.27228,
     "end_time": "2023-02-21T04:24:22.610301",
     "exception": false,
     "start_time": "2023-02-21T04:24:21.338021",
     "status": "completed"
    },
    "tags": []
   },
   "outputs": [
    {
     "data": {
      "text/plain": [
       "<AxesSubplot:title={'center':'Density plot for hours-per-week'}, ylabel='Density'>"
      ]
     },
     "execution_count": 13,
     "metadata": {},
     "output_type": "execute_result"
    },
    {
     "data": {
      "image/png": "[encoded data removed]",
      "text/plain": [
       "<Figure size 432x288 with 1 Axes>"
      ]
     },
     "metadata": {
      "needs_background": "light"
     },
     "output_type": "display_data"
    }
   ],
   "source": [
    "df['hours-per-week'].plot(kind='kde', title='Density plot for hours-per-week', color='r')"
   ]
  },
  {
   "cell_type": "code",
   "execution_count": 14,
   "id": "95b27bfd",
   "metadata": {
    "execution": {
     "iopub.execute_input": "2023-02-21T04:24:22.634585Z",
     "iopub.status.busy": "2023-02-21T04:24:22.632450Z",
     "iopub.status.idle": "2023-02-21T04:24:22.666405Z",
     "shell.execute_reply": "2023-02-21T04:24:22.665192Z"
    },
    "papermill": {
     "duration": 0.048993,
     "end_time": "2023-02-21T04:24:22.669807",
     "exception": false,
     "start_time": "2023-02-21T04:24:22.620814",
     "status": "completed"
    },
    "tags": []
   },
   "outputs": [],
   "source": [
    "def age_group(x):\n",
    "    x = int(x)\n",
    "    x = abs(x)\n",
    "    if( 18 < x < 31 ):\n",
    "        return \"19-30\"\n",
    "    if( 30 < x < 41 ):\n",
    "        return \"31-40\"\n",
    "    if( 40 < x < 51 ):\n",
    "        return \"41-50\"\n",
    "    if( 50 < x < 61 ):\n",
    "        return \"51-60\"\n",
    "    else:\n",
    "        return \"Greater than 60\"\n",
    "\n",
    "df['age_group'] = df['age'].apply(age_group)"
   ]
  },
  {
   "cell_type": "code",
   "execution_count": 15,
   "id": "4a0ea653",
   "metadata": {
    "execution": {
     "iopub.execute_input": "2023-02-21T04:24:22.703705Z",
     "iopub.status.busy": "2023-02-21T04:24:22.703256Z",
     "iopub.status.idle": "2023-02-21T04:24:23.047011Z",
     "shell.execute_reply": "2023-02-21T04:24:23.045812Z"
    },
    "papermill": {
     "duration": 0.364482,
     "end_time": "2023-02-21T04:24:23.050117",
     "exception": false,
     "start_time": "2023-02-21T04:24:22.685635",
     "status": "completed"
    },
    "tags": []
   },
   "outputs": [
    {
     "name": "stderr",
     "output_type": "stream",
     "text": [
      "/opt/conda/lib/python3.7/site-packages/seaborn/_decorators.py:43: FutureWarning: Pass the following variable as a keyword arg: x. From version 0.12, the only valid positional argument will be `data`, and passing other arguments without an explicit keyword will result in an error or misinterpretation.\n",
      "  FutureWarning\n"
     ]
    },
    {
     "data": {
      "text/plain": [
       "Text(0.5, 1.0, 'Income of Individuals of Different Age Groups')"
      ]
     },
     "execution_count": 15,
     "metadata": {},
     "output_type": "execute_result"
    },
    {
     "data": {
      "image/png": "[encoded data removed]",
      "text/plain": [
       "<Figure size 864x432 with 1 Axes>"
      ]
     },
     "metadata": {
      "needs_background": "light"
     },
     "output_type": "display_data"
    }
   ],
   "source": [
    "plt.figure(figsize=(12,6))\n",
    "order_list = ['19-30', '31-40', '41-50', '51-60', 'Greater than 60']\n",
    "sns.countplot(df['age_group'], hue = df['income'], palette='Spectral', order = order_list)\n",
    "plt.title('Income of Individuals of Different Age Groups', fontsize=18, fontweight='bold')\n"
   ]
  },
  {
   "cell_type": "markdown",
   "id": "511d84aa",
   "metadata": {
    "papermill": {
     "duration": 0.014035,
     "end_time": "2023-02-21T04:24:23.079437",
     "exception": false,
     "start_time": "2023-02-21T04:24:23.065402",
     "status": "completed"
    },
    "tags": []
   },
   "source": [
    "The largest number of people earning more than 50k is a age group 41-50"
   ]
  },
  {
   "cell_type": "code",
   "execution_count": 16,
   "id": "e3cb64d2",
   "metadata": {
    "execution": {
     "iopub.execute_input": "2023-02-21T04:24:23.102997Z",
     "iopub.status.busy": "2023-02-21T04:24:23.102536Z",
     "iopub.status.idle": "2023-02-21T04:24:23.559722Z",
     "shell.execute_reply": "2023-02-21T04:24:23.558464Z"
    },
    "papermill": {
     "duration": 0.472095,
     "end_time": "2023-02-21T04:24:23.562480",
     "exception": false,
     "start_time": "2023-02-21T04:24:23.090385",
     "status": "completed"
    },
    "tags": []
   },
   "outputs": [
    {
     "name": "stderr",
     "output_type": "stream",
     "text": [
      "/opt/conda/lib/python3.7/site-packages/seaborn/_decorators.py:43: FutureWarning: Pass the following variable as a keyword arg: x. From version 0.12, the only valid positional argument will be `data`, and passing other arguments without an explicit keyword will result in an error or misinterpretation.\n",
      "  FutureWarning\n"
     ]
    },
    {
     "data": {
      "text/plain": [
       "[Text(0, 0, '7652'),\n",
       " Text(0, 0, '927'),\n",
       " Text(0, 0, '1077'),\n",
       " Text(0, 0, '561'),\n",
       " Text(0, 0, '530'),\n",
       " Text(0, 0, '938'),\n",
       " Text(0, 0, '2'),\n",
       " Text(0, 0, '')]"
      ]
     },
     "execution_count": 16,
     "metadata": {},
     "output_type": "execute_result"
    },
    {
     "data": {
      "image/png": "[encoded data removed]",
      "text/plain": [
       "<Figure size 720x360 with 1 Axes>"
      ]
     },
     "metadata": {
      "needs_background": "light"
     },
     "output_type": "display_data"
    }
   ],
   "source": [
    "plt.figure(figsize=(10,5))\n",
    "\n",
    "ax = sns.countplot(df['workclass'], hue = df['income'])\n",
    "plt.title('Total Jumlah Orang Berdasarkan Workclass', fontsize=12)\n",
    "plt.xticks(fontsize=12,rotation = 90)\n",
    "plt.yticks(fontsize=12)\n",
    "plt.legend(fontsize=12)\n",
    "ax.bar_label(ax.containers[0])\n",
    "ax.bar_label(ax.containers[1])"
   ]
  },
  {
   "cell_type": "markdown",
   "id": "52bc1e34",
   "metadata": {
    "papermill": {
     "duration": 0.011569,
     "end_time": "2023-02-21T04:24:23.586297",
     "exception": false,
     "start_time": "2023-02-21T04:24:23.574728",
     "status": "completed"
    },
    "tags": []
   },
   "source": [
    "* Self Employed is one of the workclass categories that has an almost equal percentage between the number of people earning below 50k dollars and above 50k dollars\n",
    "* The private sector has a significant difference. Approximately 75% difference between the number of people earning under 50k and over 50k"
   ]
  },
  {
   "cell_type": "code",
   "execution_count": 17,
   "id": "1099676b",
   "metadata": {
    "execution": {
     "iopub.execute_input": "2023-02-21T04:24:23.612517Z",
     "iopub.status.busy": "2023-02-21T04:24:23.612106Z",
     "iopub.status.idle": "2023-02-21T04:24:23.919893Z",
     "shell.execute_reply": "2023-02-21T04:24:23.918916Z"
    },
    "papermill": {
     "duration": 0.323586,
     "end_time": "2023-02-21T04:24:23.922586",
     "exception": false,
     "start_time": "2023-02-21T04:24:23.599000",
     "status": "completed"
    },
    "tags": []
   },
   "outputs": [
    {
     "name": "stderr",
     "output_type": "stream",
     "text": [
      "/opt/conda/lib/python3.7/site-packages/seaborn/_decorators.py:43: FutureWarning: Pass the following variable as a keyword arg: x. From version 0.12, the only valid positional argument will be `data`, and passing other arguments without an explicit keyword will result in an error or misinterpretation.\n",
      "  FutureWarning\n"
     ]
    },
    {
     "data": {
      "text/plain": [
       "[Text(0, 0, '9918'), Text(0, 0, '1769')]"
      ]
     },
     "execution_count": 17,
     "metadata": {},
     "output_type": "execute_result"
    },
    {
     "data": {
      "image/png": "[encoded data removed]",
      "text/plain": [
       "<Figure size 720x360 with 1 Axes>"
      ]
     },
     "metadata": {
      "needs_background": "light"
     },
     "output_type": "display_data"
    }
   ],
   "source": [
    "plt.figure(figsize=(10,5))\n",
    "\n",
    "ax = sns.countplot(df['gender'], hue = df['income'])\n",
    "plt.title('Total Jumlah Orang Berdasarkan Gender', fontsize=12)\n",
    "plt.xticks(fontsize=12)\n",
    "plt.yticks(fontsize=12)\n",
    "plt.legend(fontsize=12)\n",
    "ax.bar_label(ax.containers[0])\n",
    "ax.bar_label(ax.containers[1])"
   ]
  },
  {
   "cell_type": "markdown",
   "id": "aef398cd",
   "metadata": {
    "papermill": {
     "duration": 0.011741,
     "end_time": "2023-02-21T04:24:23.946855",
     "exception": false,
     "start_time": "2023-02-21T04:24:23.935114",
     "status": "completed"
    },
    "tags": []
   },
   "source": [
    "* Less than 11% of the female gender generate income of more than 50k dollars in a year\n",
    "* As for men, around 29% have an income of more than 50k dollars per year."
   ]
  },
  {
   "cell_type": "markdown",
   "id": "b3dd2446",
   "metadata": {
    "papermill": {
     "duration": 0.011833,
     "end_time": "2023-02-21T04:24:23.971145",
     "exception": false,
     "start_time": "2023-02-21T04:24:23.959312",
     "status": "completed"
    },
    "tags": []
   },
   "source": [
    "**Correlation Between Numerical Data**"
   ]
  },
  {
   "cell_type": "code",
   "execution_count": 18,
   "id": "070a6597",
   "metadata": {
    "execution": {
     "iopub.execute_input": "2023-02-21T04:24:23.997704Z",
     "iopub.status.busy": "2023-02-21T04:24:23.996729Z",
     "iopub.status.idle": "2023-02-21T04:24:24.015205Z",
     "shell.execute_reply": "2023-02-21T04:24:24.014373Z"
    },
    "papermill": {
     "duration": 0.034161,
     "end_time": "2023-02-21T04:24:24.017387",
     "exception": false,
     "start_time": "2023-02-21T04:24:23.983226",
     "status": "completed"
    },
    "tags": []
   },
   "outputs": [
    {
     "data": {
      "text/html": [
       "<div>\n",
       "<style scoped>\n",
       "    .dataframe tbody tr th:only-of-type {\n",
       "        vertical-align: middle;\n",
       "    }\n",
       "\n",
       "    .dataframe tbody tr th {\n",
       "        vertical-align: top;\n",
       "    }\n",
       "\n",
       "    .dataframe thead th {\n",
       "        text-align: right;\n",
       "    }\n",
       "</style>\n",
       "<table border=\"1\" class=\"dataframe\">\n",
       "  <thead>\n",
       "    <tr style=\"text-align: right;\">\n",
       "      <th></th>\n",
       "      <th>age</th>\n",
       "      <th>workclass</th>\n",
       "      <th>fnlwgt</th>\n",
       "      <th>education</th>\n",
       "      <th>educational-num</th>\n",
       "      <th>marital-status</th>\n",
       "      <th>occupation</th>\n",
       "      <th>relationship</th>\n",
       "      <th>race</th>\n",
       "      <th>gender</th>\n",
       "      <th>capital-gain</th>\n",
       "      <th>capital-loss</th>\n",
       "      <th>hours-per-week</th>\n",
       "      <th>native-country</th>\n",
       "      <th>income</th>\n",
       "      <th>age_group</th>\n",
       "    </tr>\n",
       "  </thead>\n",
       "  <tbody>\n",
       "    <tr>\n",
       "      <th>0</th>\n",
       "      <td>25</td>\n",
       "      <td>Private</td>\n",
       "      <td>226802</td>\n",
       "      <td>11th</td>\n",
       "      <td>7</td>\n",
       "      <td>Never-married</td>\n",
       "      <td>Machine-op-inspct</td>\n",
       "      <td>Own-child</td>\n",
       "      <td>Black</td>\n",
       "      <td>Male</td>\n",
       "      <td>0</td>\n",
       "      <td>0</td>\n",
       "      <td>40</td>\n",
       "      <td>United-States</td>\n",
       "      <td>&lt;=50K</td>\n",
       "      <td>19-30</td>\n",
       "    </tr>\n",
       "    <tr>\n",
       "      <th>1</th>\n",
       "      <td>38</td>\n",
       "      <td>Private</td>\n",
       "      <td>89814</td>\n",
       "      <td>HS-grad</td>\n",
       "      <td>9</td>\n",
       "      <td>Married-civ-spouse</td>\n",
       "      <td>Farming-fishing</td>\n",
       "      <td>Husband</td>\n",
       "      <td>White</td>\n",
       "      <td>Male</td>\n",
       "      <td>0</td>\n",
       "      <td>0</td>\n",
       "      <td>50</td>\n",
       "      <td>United-States</td>\n",
       "      <td>&lt;=50K</td>\n",
       "      <td>31-40</td>\n",
       "    </tr>\n",
       "    <tr>\n",
       "      <th>2</th>\n",
       "      <td>28</td>\n",
       "      <td>Local-gov</td>\n",
       "      <td>336951</td>\n",
       "      <td>Assoc-acdm</td>\n",
       "      <td>12</td>\n",
       "      <td>Married-civ-spouse</td>\n",
       "      <td>Protective-serv</td>\n",
       "      <td>Husband</td>\n",
       "      <td>White</td>\n",
       "      <td>Male</td>\n",
       "      <td>0</td>\n",
       "      <td>0</td>\n",
       "      <td>40</td>\n",
       "      <td>United-States</td>\n",
       "      <td>&gt;50K</td>\n",
       "      <td>19-30</td>\n",
       "    </tr>\n",
       "    <tr>\n",
       "      <th>3</th>\n",
       "      <td>44</td>\n",
       "      <td>Private</td>\n",
       "      <td>160323</td>\n",
       "      <td>Some-college</td>\n",
       "      <td>10</td>\n",
       "      <td>Married-civ-spouse</td>\n",
       "      <td>Machine-op-inspct</td>\n",
       "      <td>Husband</td>\n",
       "      <td>Black</td>\n",
       "      <td>Male</td>\n",
       "      <td>7688</td>\n",
       "      <td>0</td>\n",
       "      <td>40</td>\n",
       "      <td>United-States</td>\n",
       "      <td>&gt;50K</td>\n",
       "      <td>41-50</td>\n",
       "    </tr>\n",
       "    <tr>\n",
       "      <th>4</th>\n",
       "      <td>18</td>\n",
       "      <td>Private</td>\n",
       "      <td>103497</td>\n",
       "      <td>Some-college</td>\n",
       "      <td>10</td>\n",
       "      <td>Never-married</td>\n",
       "      <td>Prof-specialty</td>\n",
       "      <td>Own-child</td>\n",
       "      <td>White</td>\n",
       "      <td>Female</td>\n",
       "      <td>0</td>\n",
       "      <td>0</td>\n",
       "      <td>30</td>\n",
       "      <td>United-States</td>\n",
       "      <td>&lt;=50K</td>\n",
       "      <td>Greater than 60</td>\n",
       "    </tr>\n",
       "  </tbody>\n",
       "</table>\n",
       "</div>"
      ],
      "text/plain": [
       "   age  workclass  fnlwgt     education  educational-num      marital-status  \\\n",
       "0   25    Private  226802          11th                7       Never-married   \n",
       "1   38    Private   89814       HS-grad                9  Married-civ-spouse   \n",
       "2   28  Local-gov  336951    Assoc-acdm               12  Married-civ-spouse   \n",
       "3   44    Private  160323  Some-college               10  Married-civ-spouse   \n",
       "4   18    Private  103497  Some-college               10       Never-married   \n",
       "\n",
       "          occupation relationship   race  gender  capital-gain  capital-loss  \\\n",
       "0  Machine-op-inspct    Own-child  Black    Male             0             0   \n",
       "1    Farming-fishing      Husband  White    Male             0             0   \n",
       "2    Protective-serv      Husband  White    Male             0             0   \n",
       "3  Machine-op-inspct      Husband  Black    Male          7688             0   \n",
       "4     Prof-specialty    Own-child  White  Female             0             0   \n",
       "\n",
       "   hours-per-week native-country income        age_group  \n",
       "0              40  United-States  <=50K            19-30  \n",
       "1              50  United-States  <=50K            31-40  \n",
       "2              40  United-States   >50K            19-30  \n",
       "3              40  United-States   >50K            41-50  \n",
       "4              30  United-States  <=50K  Greater than 60  "
      ]
     },
     "execution_count": 18,
     "metadata": {},
     "output_type": "execute_result"
    }
   ],
   "source": [
    "df.head()"
   ]
  },
  {
   "cell_type": "code",
   "execution_count": 19,
   "id": "ffe9f1d3",
   "metadata": {
    "execution": {
     "iopub.execute_input": "2023-02-21T04:24:24.045293Z",
     "iopub.status.busy": "2023-02-21T04:24:24.044635Z",
     "iopub.status.idle": "2023-02-21T04:24:24.513038Z",
     "shell.execute_reply": "2023-02-21T04:24:24.511771Z"
    },
    "papermill": {
     "duration": 0.486007,
     "end_time": "2023-02-21T04:24:24.515798",
     "exception": false,
     "start_time": "2023-02-21T04:24:24.029791",
     "status": "completed"
    },
    "tags": []
   },
   "outputs": [
    {
     "data": {
      "text/plain": [
       "<AxesSubplot:title={'center':' Education-Num vs Hours per week'}, xlabel='educational-num', ylabel='hours-per-week'>"
      ]
     },
     "execution_count": 19,
     "metadata": {},
     "output_type": "execute_result"
    },
    {
     "data": {
      "image/png": "[encoded data removed]",
      "text/plain": [
       "<Figure size 432x288 with 1 Axes>"
      ]
     },
     "metadata": {
      "needs_background": "light"
     },
     "output_type": "display_data"
    }
   ],
   "source": [
    "df.plot.scatter(x='educational-num', y ='hours-per-week', \n",
    "                title =' Education-Num vs Hours per week')"
   ]
  },
  {
   "cell_type": "code",
   "execution_count": 20,
   "id": "eab5a504",
   "metadata": {
    "execution": {
     "iopub.execute_input": "2023-02-21T04:24:24.543741Z",
     "iopub.status.busy": "2023-02-21T04:24:24.543300Z",
     "iopub.status.idle": "2023-02-21T04:24:24.978608Z",
     "shell.execute_reply": "2023-02-21T04:24:24.977425Z"
    },
    "papermill": {
     "duration": 0.452468,
     "end_time": "2023-02-21T04:24:24.981494",
     "exception": false,
     "start_time": "2023-02-21T04:24:24.529026",
     "status": "completed"
    },
    "tags": []
   },
   "outputs": [
    {
     "data": {
      "text/plain": [
       "<AxesSubplot:title={'center':' Education-Num vs capital-gain'}, xlabel='educational-num', ylabel='capital-gain'>"
      ]
     },
     "execution_count": 20,
     "metadata": {},
     "output_type": "execute_result"
    },
    {
     "data": {
      "image/png": "[encoded data removed]",
      "text/plain": [
       "<Figure size 432x288 with 1 Axes>"
      ]
     },
     "metadata": {
      "needs_background": "light"
     },
     "output_type": "display_data"
    }
   ],
   "source": [
    "df.plot.scatter(x='educational-num', y ='capital-gain', \n",
    "                title =' Education-Num vs capital-gain')"
   ]
  },
  {
   "cell_type": "code",
   "execution_count": 21,
   "id": "b279ca73",
   "metadata": {
    "execution": {
     "iopub.execute_input": "2023-02-21T04:24:25.011335Z",
     "iopub.status.busy": "2023-02-21T04:24:25.010115Z",
     "iopub.status.idle": "2023-02-21T04:24:25.431591Z",
     "shell.execute_reply": "2023-02-21T04:24:25.430666Z"
    },
    "papermill": {
     "duration": 0.438677,
     "end_time": "2023-02-21T04:24:25.434018",
     "exception": false,
     "start_time": "2023-02-21T04:24:24.995341",
     "status": "completed"
    },
    "tags": []
   },
   "outputs": [
    {
     "data": {
      "text/plain": [
       "<AxesSubplot:title={'center':' hours-per-week vs capital-gain'}, xlabel='hours-per-week', ylabel='capital-gain'>"
      ]
     },
     "execution_count": 21,
     "metadata": {},
     "output_type": "execute_result"
    },
    {
     "data": {
      "image/png": "[encoded data removed]",
      "text/plain": [
       "<Figure size 432x288 with 1 Axes>"
      ]
     },
     "metadata": {
      "needs_background": "light"
     },
     "output_type": "display_data"
    }
   ],
   "source": [
    "df.plot.scatter(x='hours-per-week', y ='capital-gain', \n",
    "                title =' hours-per-week vs capital-gain')"
   ]
  },
  {
   "cell_type": "markdown",
   "id": "44726315",
   "metadata": {
    "papermill": {
     "duration": 0.013548,
     "end_time": "2023-02-21T04:24:25.461830",
     "exception": false,
     "start_time": "2023-02-21T04:24:25.448282",
     "status": "completed"
    },
    "tags": []
   },
   "source": [
    "Based on the scatter plt, There are no interisting pattern from the visualization"
   ]
  },
  {
   "cell_type": "code",
   "execution_count": 22,
   "id": "0ba65711",
   "metadata": {
    "execution": {
     "iopub.execute_input": "2023-02-21T04:24:25.492246Z",
     "iopub.status.busy": "2023-02-21T04:24:25.491160Z",
     "iopub.status.idle": "2023-02-21T04:24:25.966120Z",
     "shell.execute_reply": "2023-02-21T04:24:25.964914Z"
    },
    "papermill": {
     "duration": 0.492634,
     "end_time": "2023-02-21T04:24:25.968572",
     "exception": false,
     "start_time": "2023-02-21T04:24:25.475938",
     "status": "completed"
    },
    "tags": []
   },
   "outputs": [
    {
     "data": {
      "text/plain": [
       "<AxesSubplot:>"
      ]
     },
     "execution_count": 22,
     "metadata": {},
     "output_type": "execute_result"
    },
    {
     "data": {
      "image/png": "[encoded data removed]",
      "text/plain": [
       "<Figure size 720x720 with 2 Axes>"
      ]
     },
     "metadata": {
      "needs_background": "light"
     },
     "output_type": "display_data"
    }
   ],
   "source": [
    "\n",
    "plt.figure(figsize=(10, 10))\n",
    "sns.heatmap( \n",
    "            df.corr(),\n",
    "            \n",
    "            annot=True\n",
    ")"
   ]
  },
  {
   "cell_type": "markdown",
   "id": "28e2b6ec",
   "metadata": {
    "papermill": {
     "duration": 0.014499,
     "end_time": "2023-02-21T04:24:25.998130",
     "exception": false,
     "start_time": "2023-02-21T04:24:25.983631",
     "status": "completed"
    },
    "tags": []
   },
   "source": [
    "Based on his, there is no strong correlation between the numerical features"
   ]
  }
 ],
 "metadata": {
  "kernelspec": {
   "display_name": "Python 3",
   "language": "python",
   "name": "python3"
  },
  "language_info": {
   "codemirror_mode": {
    "name": "ipython",
    "version": 3
   },
   "file_extension": ".py",
   "mimetype": "text/x-python",
   "name": "python",
   "nbconvert_exporter": "python",
   "pygments_lexer": "ipython3",
   "version": "3.7.12"
  },
  "papermill": {
   "default_parameters": {},
   "duration": 19.241013,
   "end_time": "2023-02-21T04:24:26.836648",
   "environment_variables": {},
   "exception": null,
   "input_path": "__notebook__.ipynb",
   "output_path": "__notebook__.ipynb",
   "parameters": {},
   "start_time": "2023-02-21T04:24:07.595635",
   "version": "2.3.4"
  }
 },
 "nbformat": 4,
 "nbformat_minor": 5
}
